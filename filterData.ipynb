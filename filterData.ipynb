{
 "cells": [
  {
   "cell_type": "code",
   "execution_count": 2,
   "metadata": {},
   "outputs": [],
   "source": [
    "import pandas as pd\n",
    "import json"
   ]
  },
  {
   "cell_type": "code",
   "execution_count": 15,
   "metadata": {},
   "outputs": [
    {
     "data": {
      "text/html": [
       "<div>\n",
       "<style scoped>\n",
       "    .dataframe tbody tr th:only-of-type {\n",
       "        vertical-align: middle;\n",
       "    }\n",
       "\n",
       "    .dataframe tbody tr th {\n",
       "        vertical-align: top;\n",
       "    }\n",
       "\n",
       "    .dataframe thead th {\n",
       "        text-align: right;\n",
       "    }\n",
       "</style>\n",
       "<table border=\"1\" class=\"dataframe\">\n",
       "  <thead>\n",
       "    <tr style=\"text-align: right;\">\n",
       "      <th></th>\n",
       "      <th>Unnamed: 0</th>\n",
       "      <th>title</th>\n",
       "      <th>text</th>\n",
       "      <th>authors</th>\n",
       "      <th>top_image</th>\n",
       "      <th>movies</th>\n",
       "      <th>journal</th>\n",
       "      <th>published</th>\n",
       "      <th>article_link</th>\n",
       "      <th>keywords</th>\n",
       "      <th>summary</th>\n",
       "      <th>html</th>\n",
       "    </tr>\n",
       "  </thead>\n",
       "  <tbody>\n",
       "    <tr>\n",
       "      <th>0</th>\n",
       "      <td>0</td>\n",
       "      <td>El Supremo sepulta el intento de Trump de reve...</td>\n",
       "      <td>Fachada del Tribunal Supremo de Estados Unidos...</td>\n",
       "      <td>['Amanda Mars', 'Stefani Reynolds']</td>\n",
       "      <td>https://imagenes.elpais.com/resizer/0wWUU_ynNp...</td>\n",
       "      <td>[]</td>\n",
       "      <td>elpais</td>\n",
       "      <td>2020-12-12 00:00:00</td>\n",
       "      <td>https://elpais.com/internacional/elecciones-us...</td>\n",
       "      <td>[]</td>\n",
       "      <td>NaN</td>\n",
       "      <td>&lt;!DOCTYPE html&gt;&lt;html lang=\"es\"&gt;&lt;head&gt;&lt;title&gt;El...</td>\n",
       "    </tr>\n",
       "    <tr>\n",
       "      <th>1</th>\n",
       "      <td>1</td>\n",
       "      <td>Macron y Merkel rechazan los intentos de Johns...</td>\n",
       "      <td>El presidente de Francia, Emmanuel Macron, y l...</td>\n",
       "      <td>['Bernardo De Miguel', 'Pool']</td>\n",
       "      <td>https://imagenes.elpais.com/resizer/ld4Sazapfi...</td>\n",
       "      <td>[]</td>\n",
       "      <td>elpais</td>\n",
       "      <td>2020-12-11 00:00:00</td>\n",
       "      <td>https://elpais.com/internacional/2020-12-11/ma...</td>\n",
       "      <td>[]</td>\n",
       "      <td>NaN</td>\n",
       "      <td>&lt;!DOCTYPE html&gt;&lt;html lang=\"es\"&gt;&lt;head&gt;&lt;title&gt;Ma...</td>\n",
       "    </tr>\n",
       "    <tr>\n",
       "      <th>2</th>\n",
       "      <td>2</td>\n",
       "      <td>Von der Leyen avisa: “La probabilidad de que n...</td>\n",
       "      <td>Ursula von der Leyen y Boris Johnson sacaron l...</td>\n",
       "      <td>['Lluís Pellicer', 'Rafa De Miguel', 'Johanna ...</td>\n",
       "      <td>https://imagenes.elpais.com/resizer/qzMgjhcODu...</td>\n",
       "      <td>[]</td>\n",
       "      <td>elpais</td>\n",
       "      <td>2020-12-11 00:00:00</td>\n",
       "      <td>https://elpais.com/internacional/2020-12-11/vo...</td>\n",
       "      <td>[]</td>\n",
       "      <td>NaN</td>\n",
       "      <td>&lt;!DOCTYPE html&gt;&lt;html lang=\"es\"&gt;&lt;head&gt;&lt;title&gt;Vo...</td>\n",
       "    </tr>\n",
       "    <tr>\n",
       "      <th>3</th>\n",
       "      <td>3</td>\n",
       "      <td>Defender el mercado común</td>\n",
       "      <td>Boris Johnson y Ursula von der Leyen, el miérc...</td>\n",
       "      <td>['El País', 'Dpa Vía Europa Press', 'Europa Pr...</td>\n",
       "      <td>https://imagenes.elpais.com/resizer/Z3VHM288F4...</td>\n",
       "      <td>[]</td>\n",
       "      <td>elpais</td>\n",
       "      <td>2020-12-11 00:00:00</td>\n",
       "      <td>https://elpais.com/opinion/2020-12-11/defender...</td>\n",
       "      <td>[]</td>\n",
       "      <td>NaN</td>\n",
       "      <td>&lt;!DOCTYPE html&gt;&lt;html lang=\"es\"&gt;&lt;head&gt;&lt;title&gt;De...</td>\n",
       "    </tr>\n",
       "    <tr>\n",
       "      <th>4</th>\n",
       "      <td>4</td>\n",
       "      <td>Grandes autores para pequeños lectores</td>\n",
       "      <td>Cuando en 2012 Londres dedicó el segmento cent...</td>\n",
       "      <td>['Laura Fernández']</td>\n",
       "      <td>https://imagenes.elpais.com/resizer/XcJlf8xvMD...</td>\n",
       "      <td>[]</td>\n",
       "      <td>elpais</td>\n",
       "      <td>2020-12-11 00:00:00</td>\n",
       "      <td>https://elpais.com/babelia/2020-12-11/grandes-...</td>\n",
       "      <td>[]</td>\n",
       "      <td>NaN</td>\n",
       "      <td>&lt;!DOCTYPE html&gt;&lt;html lang=\"es\"&gt;&lt;head&gt;&lt;title&gt;Gr...</td>\n",
       "    </tr>\n",
       "  </tbody>\n",
       "</table>\n",
       "</div>"
      ],
      "text/plain": [
       "   Unnamed: 0                                              title  \\\n",
       "0           0  El Supremo sepulta el intento de Trump de reve...   \n",
       "1           1  Macron y Merkel rechazan los intentos de Johns...   \n",
       "2           2  Von der Leyen avisa: “La probabilidad de que n...   \n",
       "3           3                          Defender el mercado común   \n",
       "4           4             Grandes autores para pequeños lectores   \n",
       "\n",
       "                                                text  \\\n",
       "0  Fachada del Tribunal Supremo de Estados Unidos...   \n",
       "1  El presidente de Francia, Emmanuel Macron, y l...   \n",
       "2  Ursula von der Leyen y Boris Johnson sacaron l...   \n",
       "3  Boris Johnson y Ursula von der Leyen, el miérc...   \n",
       "4  Cuando en 2012 Londres dedicó el segmento cent...   \n",
       "\n",
       "                                             authors  \\\n",
       "0                ['Amanda Mars', 'Stefani Reynolds']   \n",
       "1                     ['Bernardo De Miguel', 'Pool']   \n",
       "2  ['Lluís Pellicer', 'Rafa De Miguel', 'Johanna ...   \n",
       "3  ['El País', 'Dpa Vía Europa Press', 'Europa Pr...   \n",
       "4                                ['Laura Fernández']   \n",
       "\n",
       "                                           top_image movies journal  \\\n",
       "0  https://imagenes.elpais.com/resizer/0wWUU_ynNp...     []  elpais   \n",
       "1  https://imagenes.elpais.com/resizer/ld4Sazapfi...     []  elpais   \n",
       "2  https://imagenes.elpais.com/resizer/qzMgjhcODu...     []  elpais   \n",
       "3  https://imagenes.elpais.com/resizer/Z3VHM288F4...     []  elpais   \n",
       "4  https://imagenes.elpais.com/resizer/XcJlf8xvMD...     []  elpais   \n",
       "\n",
       "             published                                       article_link  \\\n",
       "0  2020-12-12 00:00:00  https://elpais.com/internacional/elecciones-us...   \n",
       "1  2020-12-11 00:00:00  https://elpais.com/internacional/2020-12-11/ma...   \n",
       "2  2020-12-11 00:00:00  https://elpais.com/internacional/2020-12-11/vo...   \n",
       "3  2020-12-11 00:00:00  https://elpais.com/opinion/2020-12-11/defender...   \n",
       "4  2020-12-11 00:00:00  https://elpais.com/babelia/2020-12-11/grandes-...   \n",
       "\n",
       "  keywords  summary                                               html  \n",
       "0       []      NaN  <!DOCTYPE html><html lang=\"es\"><head><title>El...  \n",
       "1       []      NaN  <!DOCTYPE html><html lang=\"es\"><head><title>Ma...  \n",
       "2       []      NaN  <!DOCTYPE html><html lang=\"es\"><head><title>Vo...  \n",
       "3       []      NaN  <!DOCTYPE html><html lang=\"es\"><head><title>De...  \n",
       "4       []      NaN  <!DOCTYPE html><html lang=\"es\"><head><title>Gr...  "
      ]
     },
     "execution_count": 15,
     "metadata": {},
     "output_type": "execute_result"
    }
   ],
   "source": [
    "data=pd.read_csv('output/scraped_data_news2.csv',error_bad_lines=False)\n",
    "data.head()"
   ]
  },
  {
   "cell_type": "code",
   "execution_count": 15,
   "metadata": {},
   "outputs": [
    {
     "data": {
      "text/plain": [
       "56100"
      ]
     },
     "execution_count": 15,
     "metadata": {},
     "output_type": "execute_result"
    }
   ],
   "source": [
    "data.size"
   ]
  },
  {
   "cell_type": "code",
   "execution_count": 23,
   "metadata": {},
   "outputs": [
    {
     "data": {
      "text/plain": [
       "3611"
      ]
     },
     "execution_count": 23,
     "metadata": {},
     "output_type": "execute_result"
    }
   ],
   "source": [
    "len(data.article_link.unique())"
   ]
  },
  {
   "cell_type": "code",
   "execution_count": 22,
   "metadata": {},
   "outputs": [
    {
     "data": {
      "text/plain": [
       "Index(['Unnamed: 0', 'title', 'text', 'authors', 'top_image', 'movies',\n",
       "       'journal', 'published', 'article_link', 'keywords', 'summary', 'html'],\n",
       "      dtype='object')"
      ]
     },
     "execution_count": 22,
     "metadata": {},
     "output_type": "execute_result"
    }
   ],
   "source": [
    "data.columns"
   ]
  },
  {
   "cell_type": "code",
   "execution_count": 4,
   "metadata": {},
   "outputs": [],
   "source": [
    "with open('input/journals.json') as data_file:\n",
    "    companies = json.load(data_file)\n",
    "    "
   ]
  },
  {
   "cell_type": "code",
   "execution_count": 5,
   "metadata": {},
   "outputs": [
    {
     "data": {
      "text/plain": [
       "{'elpais': {'link': 'https://elpais.com/espana'},\n",
       " 'okdiario': {'link': 'https://okdiario.com/espana'},\n",
       " 'eldiario': {'link': 'https://www.eldiario.es/politica'},\n",
       " 'elmundo': {'link': 'https://www.elmundo.es/espana'},\n",
       " 'lavanguardia': {'link': 'https://www.lavanguardia.com/politica'},\n",
       " 'libertaddigital': {'link': 'https://www.libertaddigital.com/espana'},\n",
       " 'publico': {'link': 'https://www.publico.es/politica'},\n",
       " 'abc': {'link': 'https://www.abc.es/espana'},\n",
       " '20minutos': {'link': 'https://www.20minutos.es/nacional'}}"
      ]
     },
     "execution_count": 5,
     "metadata": {},
     "output_type": "execute_result"
    }
   ],
   "source": [
    "companies"
   ]
  },
  {
   "cell_type": "code",
   "execution_count": 6,
   "metadata": {},
   "outputs": [],
   "source": [
    "result = []\n",
    "\n",
    "for x, y in companies.items():\n",
    "    result.append(y.get('link'))"
   ]
  },
  {
   "cell_type": "code",
   "execution_count": 7,
   "metadata": {},
   "outputs": [
    {
     "data": {
      "text/plain": [
       "['https://elpais.com/espana',\n",
       " 'https://okdiario.com/espana',\n",
       " 'https://www.eldiario.es/politica',\n",
       " 'https://www.elmundo.es/espana',\n",
       " 'https://www.lavanguardia.com/politica',\n",
       " 'https://www.libertaddigital.com/espana',\n",
       " 'https://www.publico.es/politica',\n",
       " 'https://www.abc.es/espana',\n",
       " 'https://www.20minutos.es/nacional']"
      ]
     },
     "execution_count": 7,
     "metadata": {},
     "output_type": "execute_result"
    }
   ],
   "source": [
    "result"
   ]
  },
  {
   "cell_type": "code",
   "execution_count": 16,
   "metadata": {},
   "outputs": [],
   "source": [
    "result2 = ['elpais.com/espana',\n",
    " 'eldiario.es/politica',\n",
    " 'elmundo.es/espana',\n",
    " 'lavanguardia.com/politica',\n",
    " 'libertaddigital.com/espana',\n",
    " 'publico.es/politica',\n",
    " 'abc.es/espana',\n",
    " '20minutos.es/nacional']"
   ]
  },
  {
   "cell_type": "code",
   "execution_count": 21,
   "metadata": {},
   "outputs": [],
   "source": [
    "#word.startswith(PartialWord)\n",
    "\n",
    "dataFrameOut = data[data['article_link'].str.contains('|'.join(result), na=False)]\n"
   ]
  },
  {
   "cell_type": "code",
   "execution_count": 22,
   "metadata": {},
   "outputs": [
    {
     "data": {
      "text/html": [
       "<div>\n",
       "<style scoped>\n",
       "    .dataframe tbody tr th:only-of-type {\n",
       "        vertical-align: middle;\n",
       "    }\n",
       "\n",
       "    .dataframe tbody tr th {\n",
       "        vertical-align: top;\n",
       "    }\n",
       "\n",
       "    .dataframe thead th {\n",
       "        text-align: right;\n",
       "    }\n",
       "</style>\n",
       "<table border=\"1\" class=\"dataframe\">\n",
       "  <thead>\n",
       "    <tr style=\"text-align: right;\">\n",
       "      <th></th>\n",
       "      <th>Unnamed: 0</th>\n",
       "      <th>title</th>\n",
       "      <th>text</th>\n",
       "      <th>authors</th>\n",
       "      <th>top_image</th>\n",
       "      <th>movies</th>\n",
       "      <th>journal</th>\n",
       "      <th>published</th>\n",
       "      <th>article_link</th>\n",
       "      <th>keywords</th>\n",
       "      <th>summary</th>\n",
       "      <th>html</th>\n",
       "    </tr>\n",
       "  </thead>\n",
       "  <tbody>\n",
       "    <tr>\n",
       "      <th>20</th>\n",
       "      <td>20</td>\n",
       "      <td>La Fiscalía General mantiene abierta la invest...</td>\n",
       "      <td>Juan Carlos I, ante el palacio de la Zarzuela ...</td>\n",
       "      <td>['Reyes Rincón', 'Andres Kudacki']</td>\n",
       "      <td>https://imagenes.elpais.com/resizer/AOMeMOS_pL...</td>\n",
       "      <td>[]</td>\n",
       "      <td>elpais</td>\n",
       "      <td>2020-12-11 00:00:00</td>\n",
       "      <td>https://elpais.com/espana/2020-12-11/la-fiscal...</td>\n",
       "      <td>[]</td>\n",
       "      <td>NaN</td>\n",
       "      <td>&lt;!DOCTYPE html&gt;&lt;html lang=\"es\"&gt;&lt;head&gt;&lt;title&gt;Ju...</td>\n",
       "    </tr>\n",
       "    <tr>\n",
       "      <th>21</th>\n",
       "      <td>21</td>\n",
       "      <td>Unidas Podemos solicita una comisión de invest...</td>\n",
       "      <td>Unidas Podemos ha registrado este viernes la s...</td>\n",
       "      <td>['Óscar Estaire', 'Eduardo Parra', 'Europa Pre...</td>\n",
       "      <td>https://imagenes.elpais.com/resizer/jot_lGMt5Y...</td>\n",
       "      <td>[]</td>\n",
       "      <td>elpais</td>\n",
       "      <td>2020-12-11 00:00:00</td>\n",
       "      <td>https://elpais.com/espana/2020-12-11/unidas-po...</td>\n",
       "      <td>[]</td>\n",
       "      <td>NaN</td>\n",
       "      <td>&lt;!DOCTYPE html&gt;&lt;html lang=\"es\"&gt;&lt;head&gt;&lt;title&gt;Un...</td>\n",
       "    </tr>\n",
       "    <tr>\n",
       "      <th>22</th>\n",
       "      <td>22</td>\n",
       "      <td>El juez Pedraz aprueba investigar los 600 mill...</td>\n",
       "      <td>El expresidente José María Aznar, en un acto p...</td>\n",
       "      <td>['J. J. Gálvez', 'Victor J Blanco']</td>\n",
       "      <td>https://imagenes.elpais.com/resizer/ewK12r8KnN...</td>\n",
       "      <td>[]</td>\n",
       "      <td>elpais</td>\n",
       "      <td>2020-12-11 00:00:00</td>\n",
       "      <td>https://elpais.com/espana/2020-12-11/el-juez-p...</td>\n",
       "      <td>[]</td>\n",
       "      <td>NaN</td>\n",
       "      <td>&lt;!DOCTYPE html&gt;&lt;html lang=\"es\"&gt;&lt;head&gt;&lt;title&gt;El...</td>\n",
       "    </tr>\n",
       "    <tr>\n",
       "      <th>26</th>\n",
       "      <td>26</td>\n",
       "      <td>Cómo reinsertar a un condenado por corrupción</td>\n",
       "      <td>Luis Bárcenas, Francisco Correa y otros encaus...</td>\n",
       "      <td>['Óscar López-Fonseca', 'Chema Moya']</td>\n",
       "      <td>https://imagenes.elpais.com/resizer/QAZyhIlCSn...</td>\n",
       "      <td>[]</td>\n",
       "      <td>elpais</td>\n",
       "      <td>2020-12-11 00:00:00</td>\n",
       "      <td>https://elpais.com/espana/2020-12-11/como-rein...</td>\n",
       "      <td>[]</td>\n",
       "      <td>NaN</td>\n",
       "      <td>&lt;!DOCTYPE html&gt;&lt;html lang=\"es\"&gt;&lt;head&gt;&lt;title&gt;Có...</td>\n",
       "    </tr>\n",
       "    <tr>\n",
       "      <th>47</th>\n",
       "      <td>47</td>\n",
       "      <td>Cataluña reabre a partir del lunes los centros...</td>\n",
       "      <td>Cuando no han pasado ni 24 horas desde que el ...</td>\n",
       "      <td>['Pere Ríos', 'Albert Garcia', 'El País']</td>\n",
       "      <td>https://imagenes.elpais.com/resizer/BZYyskwzZP...</td>\n",
       "      <td>[]</td>\n",
       "      <td>elpais</td>\n",
       "      <td>2020-12-12 00:00:00</td>\n",
       "      <td>https://elpais.com/espana/catalunya/2020-12-12...</td>\n",
       "      <td>[]</td>\n",
       "      <td>NaN</td>\n",
       "      <td>&lt;!DOCTYPE html&gt;&lt;html lang=\"es\"&gt;&lt;head&gt;&lt;title&gt;Ca...</td>\n",
       "    </tr>\n",
       "  </tbody>\n",
       "</table>\n",
       "</div>"
      ],
      "text/plain": [
       "    Unnamed: 0                                              title  \\\n",
       "20          20  La Fiscalía General mantiene abierta la invest...   \n",
       "21          21  Unidas Podemos solicita una comisión de invest...   \n",
       "22          22  El juez Pedraz aprueba investigar los 600 mill...   \n",
       "26          26      Cómo reinsertar a un condenado por corrupción   \n",
       "47          47  Cataluña reabre a partir del lunes los centros...   \n",
       "\n",
       "                                                 text  \\\n",
       "20  Juan Carlos I, ante el palacio de la Zarzuela ...   \n",
       "21  Unidas Podemos ha registrado este viernes la s...   \n",
       "22  El expresidente José María Aznar, en un acto p...   \n",
       "26  Luis Bárcenas, Francisco Correa y otros encaus...   \n",
       "47  Cuando no han pasado ni 24 horas desde que el ...   \n",
       "\n",
       "                                              authors  \\\n",
       "20                 ['Reyes Rincón', 'Andres Kudacki']   \n",
       "21  ['Óscar Estaire', 'Eduardo Parra', 'Europa Pre...   \n",
       "22                ['J. J. Gálvez', 'Victor J Blanco']   \n",
       "26              ['Óscar López-Fonseca', 'Chema Moya']   \n",
       "47          ['Pere Ríos', 'Albert Garcia', 'El País']   \n",
       "\n",
       "                                            top_image movies journal  \\\n",
       "20  https://imagenes.elpais.com/resizer/AOMeMOS_pL...     []  elpais   \n",
       "21  https://imagenes.elpais.com/resizer/jot_lGMt5Y...     []  elpais   \n",
       "22  https://imagenes.elpais.com/resizer/ewK12r8KnN...     []  elpais   \n",
       "26  https://imagenes.elpais.com/resizer/QAZyhIlCSn...     []  elpais   \n",
       "47  https://imagenes.elpais.com/resizer/BZYyskwzZP...     []  elpais   \n",
       "\n",
       "              published                                       article_link  \\\n",
       "20  2020-12-11 00:00:00  https://elpais.com/espana/2020-12-11/la-fiscal...   \n",
       "21  2020-12-11 00:00:00  https://elpais.com/espana/2020-12-11/unidas-po...   \n",
       "22  2020-12-11 00:00:00  https://elpais.com/espana/2020-12-11/el-juez-p...   \n",
       "26  2020-12-11 00:00:00  https://elpais.com/espana/2020-12-11/como-rein...   \n",
       "47  2020-12-12 00:00:00  https://elpais.com/espana/catalunya/2020-12-12...   \n",
       "\n",
       "   keywords  summary                                               html  \n",
       "20       []      NaN  <!DOCTYPE html><html lang=\"es\"><head><title>Ju...  \n",
       "21       []      NaN  <!DOCTYPE html><html lang=\"es\"><head><title>Un...  \n",
       "22       []      NaN  <!DOCTYPE html><html lang=\"es\"><head><title>El...  \n",
       "26       []      NaN  <!DOCTYPE html><html lang=\"es\"><head><title>Có...  \n",
       "47       []      NaN  <!DOCTYPE html><html lang=\"es\"><head><title>Ca...  "
      ]
     },
     "execution_count": 22,
     "metadata": {},
     "output_type": "execute_result"
    }
   ],
   "source": [
    "dataFrameOut.head()"
   ]
  },
  {
   "cell_type": "code",
   "execution_count": 23,
   "metadata": {},
   "outputs": [
    {
     "data": {
      "text/plain": [
       "3780"
      ]
     },
     "execution_count": 23,
     "metadata": {},
     "output_type": "execute_result"
    }
   ],
   "source": [
    "dataFrameOut.size"
   ]
  },
  {
   "cell_type": "code",
   "execution_count": 24,
   "metadata": {},
   "outputs": [
    {
     "data": {
      "text/plain": [
       "array(['elpais', 'okdiario', 'eldiario', 'elmundo', 'lavanguardia',\n",
       "       'libertaddigital', 'publico', 'abc'], dtype=object)"
      ]
     },
     "execution_count": 24,
     "metadata": {},
     "output_type": "execute_result"
    }
   ],
   "source": [
    "dataFrameOut.journal.unique()"
   ]
  },
  {
   "cell_type": "code",
   "execution_count": 25,
   "metadata": {},
   "outputs": [],
   "source": [
    "\n",
    "columns=['title','text','authors','journal']\n",
    "df=dataFrameOut[columns]"
   ]
  },
  {
   "cell_type": "code",
   "execution_count": 26,
   "metadata": {},
   "outputs": [],
   "source": [
    "df.to_csv(\"output/dataFiltered.csv\")\n"
   ]
  }
 ],
 "metadata": {
  "kernelspec": {
   "display_name": "Python 3",
   "language": "python",
   "name": "python3"
  },
  "language_info": {
   "codemirror_mode": {
    "name": "ipython",
    "version": 3
   },
   "file_extension": ".py",
   "mimetype": "text/x-python",
   "name": "python",
   "nbconvert_exporter": "python",
   "pygments_lexer": "ipython3",
   "version": "3.7.4"
  }
 },
 "nbformat": 4,
 "nbformat_minor": 4
}
