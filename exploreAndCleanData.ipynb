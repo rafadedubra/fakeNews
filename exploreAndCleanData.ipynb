{
 "cells": [
  {
   "cell_type": "code",
   "execution_count": 2,
   "metadata": {},
   "outputs": [
    {
     "name": "stderr",
     "output_type": "stream",
     "text": [
      "[nltk_data] Downloading package wordnet to C:\\Users\\Rafa\n",
      "[nltk_data]     OpSeeker\\AppData\\Roaming\\nltk_data...\n",
      "[nltk_data]   Package wordnet is already up-to-date!\n",
      "[nltk_data] Downloading package stopwords to C:\\Users\\Rafa\n",
      "[nltk_data]     OpSeeker\\AppData\\Roaming\\nltk_data...\n",
      "[nltk_data]   Package stopwords is already up-to-date!\n",
      "[nltk_data] Downloading package punkt to C:\\Users\\Rafa\n",
      "[nltk_data]     OpSeeker\\AppData\\Roaming\\nltk_data...\n",
      "[nltk_data]   Package punkt is already up-to-date!\n"
     ]
    }
   ],
   "source": [
    "import pandas as pd\n",
    "import numpy as np\n",
    "import matplotlib.pyplot as plt\n",
    "import seaborn as sns\n",
    "import spacy\n",
    "import nltk\n",
    "from nltk.stem import PorterStemmer\n",
    "nltk.download('wordnet')\n",
    "from es_lemmatizer import lemmatize\n",
    "from stop_words import get_stop_words\n",
    "from nltk.corpus import stopwords\n",
    "from spacy_spanish_lemmatizer import SpacyCustomLemmatizer\n",
    "import re\n",
    "import string\n",
    "nltk.download('stopwords')\n",
    "from PIL import features\n",
    "from wordcloud import WordCloud\n",
    "nltk.download('punkt')\n",
    "from textblob import TextBlob\n",
    "from googletrans import Translator\n",
    "from sentiment_analysis_spanish import sentiment_analysis\n",
    "import goslate\n",
    "import concurrent.futures"
   ]
  },
  {
   "cell_type": "code",
   "execution_count": null,
   "metadata": {},
   "outputs": [],
   "source": [
    "# Exploramos datos"
   ]
  },
  {
   "cell_type": "code",
   "execution_count": 3,
   "metadata": {
    "scrolled": true
   },
   "outputs": [
    {
     "data": {
      "text/html": [
       "<div>\n",
       "<style scoped>\n",
       "    .dataframe tbody tr th:only-of-type {\n",
       "        vertical-align: middle;\n",
       "    }\n",
       "\n",
       "    .dataframe tbody tr th {\n",
       "        vertical-align: top;\n",
       "    }\n",
       "\n",
       "    .dataframe thead th {\n",
       "        text-align: right;\n",
       "    }\n",
       "</style>\n",
       "<table border=\"1\" class=\"dataframe\">\n",
       "  <thead>\n",
       "    <tr style=\"text-align: right;\">\n",
       "      <th></th>\n",
       "      <th>Unnamed: 0</th>\n",
       "      <th>title</th>\n",
       "      <th>text</th>\n",
       "      <th>authors</th>\n",
       "      <th>top_image</th>\n",
       "      <th>movies</th>\n",
       "      <th>journal</th>\n",
       "      <th>published</th>\n",
       "      <th>article_link</th>\n",
       "      <th>keywords</th>\n",
       "      <th>summary</th>\n",
       "      <th>html</th>\n",
       "    </tr>\n",
       "  </thead>\n",
       "  <tbody>\n",
       "    <tr>\n",
       "      <th>0</th>\n",
       "      <td>0</td>\n",
       "      <td>Últimas noticias del coronavirus, en directo |...</td>\n",
       "      <td>Nota a los lectores: EL PAÍS ofrece en abierto...</td>\n",
       "      <td>['El País', 'Cati Cladera', 'Efe', 'Vídeo']</td>\n",
       "      <td>https://imagenes.elpais.com/resizer/D3KEdA43-x...</td>\n",
       "      <td>[]</td>\n",
       "      <td>elpais</td>\n",
       "      <td>2020-12-15 00:00:00</td>\n",
       "      <td>https://elpais.com/sociedad/2020-12-15/ultimas...</td>\n",
       "      <td>[]</td>\n",
       "      <td>NaN</td>\n",
       "      <td>&lt;!DOCTYPE html&gt;&lt;html lang=\"es\"&gt;&lt;head&gt;&lt;title&gt;Úl...</td>\n",
       "    </tr>\n",
       "    <tr>\n",
       "      <th>1</th>\n",
       "      <td>1</td>\n",
       "      <td>Bruselas podrá exigir la venta de parte de su ...</td>\n",
       "      <td>Bruselas ha colocado este martes las bases de ...</td>\n",
       "      <td>['Lluís Pellicer', 'Pool']</td>\n",
       "      <td>https://imagenes.elpais.com/resizer/IXP_qZSOq9...</td>\n",
       "      <td>[]</td>\n",
       "      <td>elpais</td>\n",
       "      <td>2020-12-15 00:00:00</td>\n",
       "      <td>https://elpais.com/economia/2020-12-15/brusela...</td>\n",
       "      <td>[]</td>\n",
       "      <td>NaN</td>\n",
       "      <td>&lt;!DOCTYPE html&gt;&lt;html lang=\"es\"&gt;&lt;head&gt;&lt;title&gt;Br...</td>\n",
       "    </tr>\n",
       "    <tr>\n",
       "      <th>2</th>\n",
       "      <td>2</td>\n",
       "      <td>El Gobierno del Reino Unido impondrá multas mi...</td>\n",
       "      <td>El Gobierno del Reino Unido ha anunciado final...</td>\n",
       "      <td>['Rafa De Miguel', 'Andy Rain']</td>\n",
       "      <td>https://imagenes.elpais.com/resizer/U8iZddH13M...</td>\n",
       "      <td>[]</td>\n",
       "      <td>elpais</td>\n",
       "      <td>2020-12-15 00:00:00</td>\n",
       "      <td>https://elpais.com/tecnologia/2020-12-15/el-go...</td>\n",
       "      <td>[]</td>\n",
       "      <td>NaN</td>\n",
       "      <td>&lt;!DOCTYPE html&gt;&lt;html lang=\"es\"&gt;&lt;head&gt;&lt;title&gt;El...</td>\n",
       "    </tr>\n",
       "    <tr>\n",
       "      <th>3</th>\n",
       "      <td>3</td>\n",
       "      <td>¿Y si Canarias fuera la fuente de tierras rara...</td>\n",
       "      <td>“Canarias no es solo turismo de sol y playa, n...</td>\n",
       "      <td>['Guillermo Vega', 'Kate Passileggeri', 'Eyeem']</td>\n",
       "      <td>https://imagenes.elpais.com/resizer/qYySQ1Qzfd...</td>\n",
       "      <td>[]</td>\n",
       "      <td>elpais</td>\n",
       "      <td>2020-12-14 00:00:00</td>\n",
       "      <td>https://elpais.com/tecnologia/2020-12-14/y-si-...</td>\n",
       "      <td>[]</td>\n",
       "      <td>NaN</td>\n",
       "      <td>&lt;!DOCTYPE html&gt;&lt;html lang=\"es\"&gt;&lt;head&gt;&lt;title&gt;¿Y...</td>\n",
       "    </tr>\n",
       "    <tr>\n",
       "      <th>4</th>\n",
       "      <td>4</td>\n",
       "      <td>Pornhub borra dos tercios de los vídeos de su ...</td>\n",
       "      <td>Pornhub cede a las presiones y borra los vídeo...</td>\n",
       "      <td>['Jaime Porras Ferreyra', 'Getty Images', 'M. ...</td>\n",
       "      <td>https://rt00.epimg.net/retina/imagenes/2020/12...</td>\n",
       "      <td>[]</td>\n",
       "      <td>elpais</td>\n",
       "      <td>2020-12-15 00:00:00</td>\n",
       "      <td>https://retina.elpais.com/retina/2020/12/14/in...</td>\n",
       "      <td>[]</td>\n",
       "      <td>NaN</td>\n",
       "      <td>&lt;!DOCTYPE html&gt;\\n&lt;html lang=\"es\"&gt;\\n&lt;head&gt;\\n&lt;me...</td>\n",
       "    </tr>\n",
       "  </tbody>\n",
       "</table>\n",
       "</div>"
      ],
      "text/plain": [
       "   Unnamed: 0                                              title  \\\n",
       "0           0  Últimas noticias del coronavirus, en directo |...   \n",
       "1           1  Bruselas podrá exigir la venta de parte de su ...   \n",
       "2           2  El Gobierno del Reino Unido impondrá multas mi...   \n",
       "3           3  ¿Y si Canarias fuera la fuente de tierras rara...   \n",
       "4           4  Pornhub borra dos tercios de los vídeos de su ...   \n",
       "\n",
       "                                                text  \\\n",
       "0  Nota a los lectores: EL PAÍS ofrece en abierto...   \n",
       "1  Bruselas ha colocado este martes las bases de ...   \n",
       "2  El Gobierno del Reino Unido ha anunciado final...   \n",
       "3  “Canarias no es solo turismo de sol y playa, n...   \n",
       "4  Pornhub cede a las presiones y borra los vídeo...   \n",
       "\n",
       "                                             authors  \\\n",
       "0        ['El País', 'Cati Cladera', 'Efe', 'Vídeo']   \n",
       "1                         ['Lluís Pellicer', 'Pool']   \n",
       "2                    ['Rafa De Miguel', 'Andy Rain']   \n",
       "3   ['Guillermo Vega', 'Kate Passileggeri', 'Eyeem']   \n",
       "4  ['Jaime Porras Ferreyra', 'Getty Images', 'M. ...   \n",
       "\n",
       "                                           top_image movies journal  \\\n",
       "0  https://imagenes.elpais.com/resizer/D3KEdA43-x...     []  elpais   \n",
       "1  https://imagenes.elpais.com/resizer/IXP_qZSOq9...     []  elpais   \n",
       "2  https://imagenes.elpais.com/resizer/U8iZddH13M...     []  elpais   \n",
       "3  https://imagenes.elpais.com/resizer/qYySQ1Qzfd...     []  elpais   \n",
       "4  https://rt00.epimg.net/retina/imagenes/2020/12...     []  elpais   \n",
       "\n",
       "             published                                       article_link  \\\n",
       "0  2020-12-15 00:00:00  https://elpais.com/sociedad/2020-12-15/ultimas...   \n",
       "1  2020-12-15 00:00:00  https://elpais.com/economia/2020-12-15/brusela...   \n",
       "2  2020-12-15 00:00:00  https://elpais.com/tecnologia/2020-12-15/el-go...   \n",
       "3  2020-12-14 00:00:00  https://elpais.com/tecnologia/2020-12-14/y-si-...   \n",
       "4  2020-12-15 00:00:00  https://retina.elpais.com/retina/2020/12/14/in...   \n",
       "\n",
       "  keywords  summary                                               html  \n",
       "0       []      NaN  <!DOCTYPE html><html lang=\"es\"><head><title>Úl...  \n",
       "1       []      NaN  <!DOCTYPE html><html lang=\"es\"><head><title>Br...  \n",
       "2       []      NaN  <!DOCTYPE html><html lang=\"es\"><head><title>El...  \n",
       "3       []      NaN  <!DOCTYPE html><html lang=\"es\"><head><title>¿Y...  \n",
       "4       []      NaN  <!DOCTYPE html>\\n<html lang=\"es\">\\n<head>\\n<me...  "
      ]
     },
     "execution_count": 3,
     "metadata": {},
     "output_type": "execute_result"
    }
   ],
   "source": [
    "data=pd.read_csv('output/all_data_news.csv',error_bad_lines=False)\n",
    "data.head()"
   ]
  },
  {
   "cell_type": "code",
   "execution_count": 4,
   "metadata": {},
   "outputs": [
    {
     "data": {
      "text/plain": [
       "85980"
      ]
     },
     "execution_count": 4,
     "metadata": {},
     "output_type": "execute_result"
    }
   ],
   "source": [
    "data.size"
   ]
  },
  {
   "cell_type": "code",
   "execution_count": 5,
   "metadata": {},
   "outputs": [],
   "source": [
    "# Borramos columnas que no necesitamos y datos duplicados"
   ]
  },
  {
   "cell_type": "code",
   "execution_count": 6,
   "metadata": {},
   "outputs": [
    {
     "data": {
      "text/plain": [
       "23032"
      ]
     },
     "execution_count": 6,
     "metadata": {},
     "output_type": "execute_result"
    }
   ],
   "source": [
    "data=data.drop(['Unnamed: 0', 'top_image', 'movies', 'published', 'article_link', 'keywords' , 'summary', 'html'],axis=1)\n",
    "data = data.drop_duplicates()\n",
    "data.size"
   ]
  },
  {
   "cell_type": "code",
   "execution_count": 7,
   "metadata": {
    "scrolled": true
   },
   "outputs": [
    {
     "data": {
      "text/html": [
       "<div>\n",
       "<style scoped>\n",
       "    .dataframe tbody tr th:only-of-type {\n",
       "        vertical-align: middle;\n",
       "    }\n",
       "\n",
       "    .dataframe tbody tr th {\n",
       "        vertical-align: top;\n",
       "    }\n",
       "\n",
       "    .dataframe thead th {\n",
       "        text-align: right;\n",
       "    }\n",
       "</style>\n",
       "<table border=\"1\" class=\"dataframe\">\n",
       "  <thead>\n",
       "    <tr style=\"text-align: right;\">\n",
       "      <th></th>\n",
       "      <th>title</th>\n",
       "      <th>text</th>\n",
       "      <th>authors</th>\n",
       "      <th>journal</th>\n",
       "    </tr>\n",
       "  </thead>\n",
       "  <tbody>\n",
       "    <tr>\n",
       "      <th>0</th>\n",
       "      <td>Últimas noticias del coronavirus, en directo |...</td>\n",
       "      <td>Nota a los lectores: EL PAÍS ofrece en abierto...</td>\n",
       "      <td>['El País', 'Cati Cladera', 'Efe', 'Vídeo']</td>\n",
       "      <td>elpais</td>\n",
       "    </tr>\n",
       "    <tr>\n",
       "      <th>1</th>\n",
       "      <td>Bruselas podrá exigir la venta de parte de su ...</td>\n",
       "      <td>Bruselas ha colocado este martes las bases de ...</td>\n",
       "      <td>['Lluís Pellicer', 'Pool']</td>\n",
       "      <td>elpais</td>\n",
       "    </tr>\n",
       "    <tr>\n",
       "      <th>2</th>\n",
       "      <td>El Gobierno del Reino Unido impondrá multas mi...</td>\n",
       "      <td>El Gobierno del Reino Unido ha anunciado final...</td>\n",
       "      <td>['Rafa De Miguel', 'Andy Rain']</td>\n",
       "      <td>elpais</td>\n",
       "    </tr>\n",
       "    <tr>\n",
       "      <th>3</th>\n",
       "      <td>¿Y si Canarias fuera la fuente de tierras rara...</td>\n",
       "      <td>“Canarias no es solo turismo de sol y playa, n...</td>\n",
       "      <td>['Guillermo Vega', 'Kate Passileggeri', 'Eyeem']</td>\n",
       "      <td>elpais</td>\n",
       "    </tr>\n",
       "    <tr>\n",
       "      <th>4</th>\n",
       "      <td>Pornhub borra dos tercios de los vídeos de su ...</td>\n",
       "      <td>Pornhub cede a las presiones y borra los vídeo...</td>\n",
       "      <td>['Jaime Porras Ferreyra', 'Getty Images', 'M. ...</td>\n",
       "      <td>elpais</td>\n",
       "    </tr>\n",
       "  </tbody>\n",
       "</table>\n",
       "</div>"
      ],
      "text/plain": [
       "                                               title  \\\n",
       "0  Últimas noticias del coronavirus, en directo |...   \n",
       "1  Bruselas podrá exigir la venta de parte de su ...   \n",
       "2  El Gobierno del Reino Unido impondrá multas mi...   \n",
       "3  ¿Y si Canarias fuera la fuente de tierras rara...   \n",
       "4  Pornhub borra dos tercios de los vídeos de su ...   \n",
       "\n",
       "                                                text  \\\n",
       "0  Nota a los lectores: EL PAÍS ofrece en abierto...   \n",
       "1  Bruselas ha colocado este martes las bases de ...   \n",
       "2  El Gobierno del Reino Unido ha anunciado final...   \n",
       "3  “Canarias no es solo turismo de sol y playa, n...   \n",
       "4  Pornhub cede a las presiones y borra los vídeo...   \n",
       "\n",
       "                                             authors journal  \n",
       "0        ['El País', 'Cati Cladera', 'Efe', 'Vídeo']  elpais  \n",
       "1                         ['Lluís Pellicer', 'Pool']  elpais  \n",
       "2                    ['Rafa De Miguel', 'Andy Rain']  elpais  \n",
       "3   ['Guillermo Vega', 'Kate Passileggeri', 'Eyeem']  elpais  \n",
       "4  ['Jaime Porras Ferreyra', 'Getty Images', 'M. ...  elpais  "
      ]
     },
     "execution_count": 7,
     "metadata": {},
     "output_type": "execute_result"
    }
   ],
   "source": [
    "data.head()"
   ]
  },
  {
   "cell_type": "code",
   "execution_count": 8,
   "metadata": {},
   "outputs": [
    {
     "data": {
      "text/html": [
       "<div>\n",
       "<style scoped>\n",
       "    .dataframe tbody tr th:only-of-type {\n",
       "        vertical-align: middle;\n",
       "    }\n",
       "\n",
       "    .dataframe tbody tr th {\n",
       "        vertical-align: top;\n",
       "    }\n",
       "\n",
       "    .dataframe thead th {\n",
       "        text-align: right;\n",
       "    }\n",
       "</style>\n",
       "<table border=\"1\" class=\"dataframe\">\n",
       "  <thead>\n",
       "    <tr style=\"text-align: right;\">\n",
       "      <th></th>\n",
       "      <th>title</th>\n",
       "      <th>text</th>\n",
       "      <th>authors</th>\n",
       "    </tr>\n",
       "    <tr>\n",
       "      <th>journal</th>\n",
       "      <th></th>\n",
       "      <th></th>\n",
       "      <th></th>\n",
       "    </tr>\n",
       "  </thead>\n",
       "  <tbody>\n",
       "    <tr>\n",
       "      <th>20minutos</th>\n",
       "      <td>193</td>\n",
       "      <td>193</td>\n",
       "      <td>193</td>\n",
       "    </tr>\n",
       "    <tr>\n",
       "      <th>abc</th>\n",
       "      <td>223</td>\n",
       "      <td>219</td>\n",
       "      <td>223</td>\n",
       "    </tr>\n",
       "    <tr>\n",
       "      <th>elcorreo</th>\n",
       "      <td>163</td>\n",
       "      <td>131</td>\n",
       "      <td>163</td>\n",
       "    </tr>\n",
       "    <tr>\n",
       "      <th>eldiario</th>\n",
       "      <td>788</td>\n",
       "      <td>786</td>\n",
       "      <td>788</td>\n",
       "    </tr>\n",
       "    <tr>\n",
       "      <th>elmundo</th>\n",
       "      <td>314</td>\n",
       "      <td>286</td>\n",
       "      <td>314</td>\n",
       "    </tr>\n",
       "    <tr>\n",
       "      <th>elpais</th>\n",
       "      <td>731</td>\n",
       "      <td>719</td>\n",
       "      <td>731</td>\n",
       "    </tr>\n",
       "    <tr>\n",
       "      <th>elperiodico</th>\n",
       "      <td>254</td>\n",
       "      <td>254</td>\n",
       "      <td>254</td>\n",
       "    </tr>\n",
       "    <tr>\n",
       "      <th>lavanguardia</th>\n",
       "      <td>748</td>\n",
       "      <td>744</td>\n",
       "      <td>748</td>\n",
       "    </tr>\n",
       "    <tr>\n",
       "      <th>lavozdegalicia</th>\n",
       "      <td>1732</td>\n",
       "      <td>1638</td>\n",
       "      <td>1732</td>\n",
       "    </tr>\n",
       "    <tr>\n",
       "      <th>libertaddigital</th>\n",
       "      <td>248</td>\n",
       "      <td>247</td>\n",
       "      <td>248</td>\n",
       "    </tr>\n",
       "    <tr>\n",
       "      <th>okdiario</th>\n",
       "      <td>174</td>\n",
       "      <td>174</td>\n",
       "      <td>174</td>\n",
       "    </tr>\n",
       "    <tr>\n",
       "      <th>publico</th>\n",
       "      <td>190</td>\n",
       "      <td>103</td>\n",
       "      <td>190</td>\n",
       "    </tr>\n",
       "  </tbody>\n",
       "</table>\n",
       "</div>"
      ],
      "text/plain": [
       "                 title  text  authors\n",
       "journal                              \n",
       "20minutos          193   193      193\n",
       "abc                223   219      223\n",
       "elcorreo           163   131      163\n",
       "eldiario           788   786      788\n",
       "elmundo            314   286      314\n",
       "elpais             731   719      731\n",
       "elperiodico        254   254      254\n",
       "lavanguardia       748   744      748\n",
       "lavozdegalicia    1732  1638     1732\n",
       "libertaddigital    248   247      248\n",
       "okdiario           174   174      174\n",
       "publico            190   103      190"
      ]
     },
     "execution_count": 8,
     "metadata": {},
     "output_type": "execute_result"
    }
   ],
   "source": [
    "data.groupby(['journal']).count()"
   ]
  },
  {
   "cell_type": "code",
   "execution_count": 21,
   "metadata": {},
   "outputs": [],
   "source": [
    "# limpiamos datos. \n"
   ]
  },
  {
   "cell_type": "code",
   "execution_count": 10,
   "metadata": {},
   "outputs": [],
   "source": [
    "def clean_text_one(text):\n",
    "    text = re.sub('\\[.*?¿\\]\\%', ' ', text)\n",
    "    text = re.sub('[%s]' % re.escape(string.punctuation), ' ', text)\n",
    "    text = re.sub('\\w*\\d\\w*', '', text)\n",
    "    return text"
   ]
  },
  {
   "cell_type": "code",
   "execution_count": 11,
   "metadata": {},
   "outputs": [],
   "source": [
    "data.title = data.title.apply(clean_text_one)"
   ]
  },
  {
   "cell_type": "code",
   "execution_count": 14,
   "metadata": {},
   "outputs": [],
   "source": [
    "data['text'] = data['text'].astype(str)\n",
    "\n",
    "data.text = data.text.apply(clean_text_one)"
   ]
  },
  {
   "cell_type": "code",
   "execution_count": 15,
   "metadata": {},
   "outputs": [
    {
     "data": {
      "text/html": [
       "<div>\n",
       "<style scoped>\n",
       "    .dataframe tbody tr th:only-of-type {\n",
       "        vertical-align: middle;\n",
       "    }\n",
       "\n",
       "    .dataframe tbody tr th {\n",
       "        vertical-align: top;\n",
       "    }\n",
       "\n",
       "    .dataframe thead th {\n",
       "        text-align: right;\n",
       "    }\n",
       "</style>\n",
       "<table border=\"1\" class=\"dataframe\">\n",
       "  <thead>\n",
       "    <tr style=\"text-align: right;\">\n",
       "      <th></th>\n",
       "      <th>title</th>\n",
       "      <th>text</th>\n",
       "      <th>authors</th>\n",
       "      <th>journal</th>\n",
       "    </tr>\n",
       "  </thead>\n",
       "  <tbody>\n",
       "    <tr>\n",
       "      <th>0</th>\n",
       "      <td>Últimas noticias del coronavirus  en directo  ...</td>\n",
       "      <td>Nota a los lectores  EL PAÍS ofrece en abierto...</td>\n",
       "      <td>['El País', 'Cati Cladera', 'Efe', 'Vídeo']</td>\n",
       "      <td>elpais</td>\n",
       "    </tr>\n",
       "    <tr>\n",
       "      <th>1</th>\n",
       "      <td>Bruselas podrá exigir la venta de parte de su ...</td>\n",
       "      <td>Bruselas ha colocado este martes las bases de ...</td>\n",
       "      <td>['Lluís Pellicer', 'Pool']</td>\n",
       "      <td>elpais</td>\n",
       "    </tr>\n",
       "    <tr>\n",
       "      <th>2</th>\n",
       "      <td>El Gobierno del Reino Unido impondrá multas mi...</td>\n",
       "      <td>El Gobierno del Reino Unido ha anunciado final...</td>\n",
       "      <td>['Rafa De Miguel', 'Andy Rain']</td>\n",
       "      <td>elpais</td>\n",
       "    </tr>\n",
       "    <tr>\n",
       "      <th>3</th>\n",
       "      <td>¿Y si Canarias fuera la fuente de tierras rara...</td>\n",
       "      <td>“Canarias no es solo turismo de sol y playa  n...</td>\n",
       "      <td>['Guillermo Vega', 'Kate Passileggeri', 'Eyeem']</td>\n",
       "      <td>elpais</td>\n",
       "    </tr>\n",
       "    <tr>\n",
       "      <th>4</th>\n",
       "      <td>Pornhub borra dos tercios de los vídeos de su ...</td>\n",
       "      <td>Pornhub cede a las presiones y borra los vídeo...</td>\n",
       "      <td>['Jaime Porras Ferreyra', 'Getty Images', 'M. ...</td>\n",
       "      <td>elpais</td>\n",
       "    </tr>\n",
       "  </tbody>\n",
       "</table>\n",
       "</div>"
      ],
      "text/plain": [
       "                                               title  \\\n",
       "0  Últimas noticias del coronavirus  en directo  ...   \n",
       "1  Bruselas podrá exigir la venta de parte de su ...   \n",
       "2  El Gobierno del Reino Unido impondrá multas mi...   \n",
       "3  ¿Y si Canarias fuera la fuente de tierras rara...   \n",
       "4  Pornhub borra dos tercios de los vídeos de su ...   \n",
       "\n",
       "                                                text  \\\n",
       "0  Nota a los lectores  EL PAÍS ofrece en abierto...   \n",
       "1  Bruselas ha colocado este martes las bases de ...   \n",
       "2  El Gobierno del Reino Unido ha anunciado final...   \n",
       "3  “Canarias no es solo turismo de sol y playa  n...   \n",
       "4  Pornhub cede a las presiones y borra los vídeo...   \n",
       "\n",
       "                                             authors journal  \n",
       "0        ['El País', 'Cati Cladera', 'Efe', 'Vídeo']  elpais  \n",
       "1                         ['Lluís Pellicer', 'Pool']  elpais  \n",
       "2                    ['Rafa De Miguel', 'Andy Rain']  elpais  \n",
       "3   ['Guillermo Vega', 'Kate Passileggeri', 'Eyeem']  elpais  \n",
       "4  ['Jaime Porras Ferreyra', 'Getty Images', 'M. ...  elpais  "
      ]
     },
     "execution_count": 15,
     "metadata": {},
     "output_type": "execute_result"
    }
   ],
   "source": [
    "data.head()"
   ]
  },
  {
   "cell_type": "code",
   "execution_count": 16,
   "metadata": {},
   "outputs": [],
   "source": [
    "def clean_text_two(text):\n",
    "    text = re.sub('\\[.*?¿\\]\\%', ' ', text)\n",
    "    text = re.sub('[%s]' % re.escape(string.punctuation), ' ', text)\n",
    "    text = re.sub('\\w*\\d\\w*', '', text)\n",
    "    return text"
   ]
  },
  {
   "cell_type": "code",
   "execution_count": 17,
   "metadata": {},
   "outputs": [],
   "source": [
    "data.title = data.title.apply(clean_text_two)"
   ]
  },
  {
   "cell_type": "code",
   "execution_count": 18,
   "metadata": {},
   "outputs": [],
   "source": [
    "data.text = data.text.apply(clean_text_two)"
   ]
  },
  {
   "cell_type": "code",
   "execution_count": 19,
   "metadata": {},
   "outputs": [
    {
     "data": {
      "text/html": [
       "<div>\n",
       "<style scoped>\n",
       "    .dataframe tbody tr th:only-of-type {\n",
       "        vertical-align: middle;\n",
       "    }\n",
       "\n",
       "    .dataframe tbody tr th {\n",
       "        vertical-align: top;\n",
       "    }\n",
       "\n",
       "    .dataframe thead th {\n",
       "        text-align: right;\n",
       "    }\n",
       "</style>\n",
       "<table border=\"1\" class=\"dataframe\">\n",
       "  <thead>\n",
       "    <tr style=\"text-align: right;\">\n",
       "      <th></th>\n",
       "      <th>title</th>\n",
       "      <th>text</th>\n",
       "      <th>authors</th>\n",
       "      <th>journal</th>\n",
       "    </tr>\n",
       "  </thead>\n",
       "  <tbody>\n",
       "    <tr>\n",
       "      <th>0</th>\n",
       "      <td>Últimas noticias del coronavirus  en directo  ...</td>\n",
       "      <td>Nota a los lectores  EL PAÍS ofrece en abierto...</td>\n",
       "      <td>['El País', 'Cati Cladera', 'Efe', 'Vídeo']</td>\n",
       "      <td>elpais</td>\n",
       "    </tr>\n",
       "    <tr>\n",
       "      <th>1</th>\n",
       "      <td>Bruselas podrá exigir la venta de parte de su ...</td>\n",
       "      <td>Bruselas ha colocado este martes las bases de ...</td>\n",
       "      <td>['Lluís Pellicer', 'Pool']</td>\n",
       "      <td>elpais</td>\n",
       "    </tr>\n",
       "    <tr>\n",
       "      <th>2</th>\n",
       "      <td>El Gobierno del Reino Unido impondrá multas mi...</td>\n",
       "      <td>El Gobierno del Reino Unido ha anunciado final...</td>\n",
       "      <td>['Rafa De Miguel', 'Andy Rain']</td>\n",
       "      <td>elpais</td>\n",
       "    </tr>\n",
       "    <tr>\n",
       "      <th>3</th>\n",
       "      <td>¿Y si Canarias fuera la fuente de tierras rara...</td>\n",
       "      <td>“Canarias no es solo turismo de sol y playa  n...</td>\n",
       "      <td>['Guillermo Vega', 'Kate Passileggeri', 'Eyeem']</td>\n",
       "      <td>elpais</td>\n",
       "    </tr>\n",
       "    <tr>\n",
       "      <th>4</th>\n",
       "      <td>Pornhub borra dos tercios de los vídeos de su ...</td>\n",
       "      <td>Pornhub cede a las presiones y borra los vídeo...</td>\n",
       "      <td>['Jaime Porras Ferreyra', 'Getty Images', 'M. ...</td>\n",
       "      <td>elpais</td>\n",
       "    </tr>\n",
       "  </tbody>\n",
       "</table>\n",
       "</div>"
      ],
      "text/plain": [
       "                                               title  \\\n",
       "0  Últimas noticias del coronavirus  en directo  ...   \n",
       "1  Bruselas podrá exigir la venta de parte de su ...   \n",
       "2  El Gobierno del Reino Unido impondrá multas mi...   \n",
       "3  ¿Y si Canarias fuera la fuente de tierras rara...   \n",
       "4  Pornhub borra dos tercios de los vídeos de su ...   \n",
       "\n",
       "                                                text  \\\n",
       "0  Nota a los lectores  EL PAÍS ofrece en abierto...   \n",
       "1  Bruselas ha colocado este martes las bases de ...   \n",
       "2  El Gobierno del Reino Unido ha anunciado final...   \n",
       "3  “Canarias no es solo turismo de sol y playa  n...   \n",
       "4  Pornhub cede a las presiones y borra los vídeo...   \n",
       "\n",
       "                                             authors journal  \n",
       "0        ['El País', 'Cati Cladera', 'Efe', 'Vídeo']  elpais  \n",
       "1                         ['Lluís Pellicer', 'Pool']  elpais  \n",
       "2                    ['Rafa De Miguel', 'Andy Rain']  elpais  \n",
       "3   ['Guillermo Vega', 'Kate Passileggeri', 'Eyeem']  elpais  \n",
       "4  ['Jaime Porras Ferreyra', 'Getty Images', 'M. ...  elpais  "
      ]
     },
     "execution_count": 19,
     "metadata": {},
     "output_type": "execute_result"
    }
   ],
   "source": [
    "data.head()"
   ]
  },
  {
   "cell_type": "code",
   "execution_count": 20,
   "metadata": {},
   "outputs": [],
   "source": [
    "data.to_csv(\"output/clean_data.csv\")\n"
   ]
  },
  {
   "cell_type": "code",
   "execution_count": null,
   "metadata": {},
   "outputs": [],
   "source": [
    "list_keywords_coronavirus = [\"Coronavirus\", \"coronavirus\", \"covid\", \"Covid\", \"pandemia\", \"Pandemia\", \"vacuna\", \"Vacuna\",\n",
    "                             \"virus\", \"Virus\", \"Segunda ola\", \"segunda ola\", \"vacunación\", \"Vacunación\", \"Vacunar\", \"vacunar\",\n",
    "                            \"contagios\", \"contagiados\", \"Contagiados\", \"Contagios\"]"
   ]
  },
  {
   "cell_type": "code",
   "execution_count": null,
   "metadata": {},
   "outputs": [],
   "source": [
    "# sLength = len(data['text'])\n",
    "# data['coronavirus'] = pd.Series(np.random.randn(sLength), index=data.index)\n",
    "data['title'] = data['title'].astype(str)\n",
    "\n",
    "def isCoronavirus(text):\n",
    "        if any(word in text for word in list_keywords_coronavirus):\n",
    "            return 1\n",
    "        else:\n",
    "            return 0"
   ]
  },
  {
   "cell_type": "code",
   "execution_count": null,
   "metadata": {},
   "outputs": [],
   "source": [
    "data['isArticleCoronavirus'] = data[\"title\"].apply(isCoronavirus)\n"
   ]
  },
  {
   "cell_type": "code",
   "execution_count": null,
   "metadata": {},
   "outputs": [],
   "source": [
    "data_covid = data[data.isArticleCoronavirus == 1]"
   ]
  },
  {
   "cell_type": "code",
   "execution_count": null,
   "metadata": {},
   "outputs": [],
   "source": [
    "data_covid.size"
   ]
  },
  {
   "cell_type": "code",
   "execution_count": null,
   "metadata": {},
   "outputs": [],
   "source": [
    "z=data_covid.groupby(by=['journal'],as_index=False).count().sort_values(by='isArticleCoronavirus',ascending=False).head(10)\n",
    "\n",
    "plt.figure(figsize=(10,5))\n",
    "sns.set_style(\"whitegrid\")\n",
    "ax = sns.barplot(x=z['journal'],y=z['isArticleCoronavirus'], data=z)\n",
    "plt.xlabel(\"isArticleCoronavirus\")\n",
    "plt.ylabel(\"Count\")\n",
    "plt.title(\"Counts isArticleCoronavirus per journal\")"
   ]
  },
  {
   "cell_type": "code",
   "execution_count": null,
   "metadata": {},
   "outputs": [],
   "source": [
    "list_keywords_monarchy = [\"Juan Carlos I\", \"Juan Carlos\", \"emérito\", \"Don Juan Carlos\", \"El Rey\"]\n"
   ]
  },
  {
   "cell_type": "code",
   "execution_count": null,
   "metadata": {},
   "outputs": [],
   "source": [
    "def isMonarchy(text):\n",
    "        if any(word in text for word in list_keywords_monarchy):\n",
    "            return 1\n",
    "        else:\n",
    "            return 0"
   ]
  },
  {
   "cell_type": "code",
   "execution_count": null,
   "metadata": {},
   "outputs": [],
   "source": [
    "data['isArticleMonarchy'] = data[\"title\"].apply(isMonarchy)"
   ]
  },
  {
   "cell_type": "code",
   "execution_count": null,
   "metadata": {},
   "outputs": [],
   "source": [
    "data_monarchy = data[data.isArticleMonarchy == 1]"
   ]
  },
  {
   "cell_type": "code",
   "execution_count": null,
   "metadata": {},
   "outputs": [],
   "source": [
    "data_monarchy.head()"
   ]
  },
  {
   "cell_type": "code",
   "execution_count": null,
   "metadata": {},
   "outputs": [],
   "source": [
    "z=data_monarchy.groupby(by=['journal'],as_index=False).count().sort_values(by='isArticleMonarchy',ascending=False).head(10)\n",
    "\n",
    "plt.figure(figsize=(10,5))\n",
    "sns.set_style(\"whitegrid\")\n",
    "ax = sns.barplot(x=z['journal'],y=z['isArticleMonarchy'], data=z)\n",
    "plt.xlabel(\"isArticleMonarchy\")\n",
    "plt.ylabel(\"Count\")\n",
    "plt.title(\"Counts isArticleMonarchy per journal\")"
   ]
  },
  {
   "cell_type": "code",
   "execution_count": null,
   "metadata": {},
   "outputs": [],
   "source": [
    "list_keywords_psoe_sanchez= [\"Sánchez\", \"Pedro Sánchez\", \"Psoe\", \"Partido Socialista\"]\n",
    "list_keywords_vox_abascal= ['Santiago Abascal', \"Abascal\", \"Vox\"]\n",
    "list_keywords_podemos_iglesias= ['Pablo Iglesias', 'Iglesias', \"Podemos\", \"Unidas Podemos\"]\n",
    "list_keywords_pp_casado= ['Pablo Casado', 'Casado', \"PP\", \"Partido Popular\"]\n",
    "list_keywords_ciudadanos_ines= ['Inés Arrimadas', 'Arrimadas', \"Ciudadanos\", \"Cs\"]\n",
    "\n",
    "\n",
    "def probPolitical(text):\n",
    "    isSanchez = 0 \n",
    "    isCasado = 0 \n",
    "    isArrimadas = 0\n",
    "    isAbascal = 0\n",
    "    isIglesias = 0\n",
    "\n",
    "    if any(word in text for word in list_keywords_psoe_sanchez):\n",
    "        isSanchez += 1 \n",
    "    if any(word in text for word in list_keywords_vox_abascal):\n",
    "         isAbascal += 1 \n",
    "    if any(word in text for word in list_keywords_podemos_iglesias):\n",
    "         isIglesias += 1 \n",
    "    if any(word in text for word in list_keywords_pp_casado):\n",
    "        isCasado += 1 \n",
    "    if any(word in text for word in list_keywords_ciudadanos_ines):\n",
    "        isArrimadas += 1 \n",
    "\n",
    "    total = isIglesias + isAbascal + isIglesias + isCasado + isArrimadas\n",
    "\n",
    "    if (total > 0):\n",
    "        return isCasado/total #cambiar politico\n",
    "    else:\n",
    "        return 0\n",
    "    \n",
    "        "
   ]
  },
  {
   "cell_type": "code",
   "execution_count": null,
   "metadata": {
    "scrolled": false
   },
   "outputs": [],
   "source": [
    "data['isIglesias'] = data[\"title\"].apply(probPolitical)\n",
    "data['isIglesias'] "
   ]
  },
  {
   "cell_type": "code",
   "execution_count": null,
   "metadata": {},
   "outputs": [],
   "source": [
    "\n",
    "data_isIglesias2 = data[data.isIglesias > 0.5]\n",
    "data_isIglesias2.head()"
   ]
  },
  {
   "cell_type": "code",
   "execution_count": null,
   "metadata": {},
   "outputs": [],
   "source": [
    "z=data_isIglesias.groupby(by=['journal'],as_index=False).count().sort_values(by='isIglesias',ascending=False).head(10)\n",
    "\n",
    "plt.figure(figsize=(10,5))\n",
    "sns.set_style(\"whitegrid\")\n",
    "ax = sns.barplot(x=z['journal'],y=z['isSanchez'], data=z)\n",
    "plt.xlabel(\"isArticleMonarchy\")\n",
    "plt.ylabel(\"Count\")\n",
    "plt.title(\"Counts isArticleMonarchy per journal\")"
   ]
  },
  {
   "cell_type": "code",
   "execution_count": null,
   "metadata": {},
   "outputs": [],
   "source": [
    "data_isSanchez.head()"
   ]
  },
  {
   "cell_type": "code",
   "execution_count": null,
   "metadata": {},
   "outputs": [],
   "source": [
    "data_monarchy['title'] = data_monarchy['title'].astype(str)\n",
    "data_monarchy['text'] = data_monarchy['text'].astype(str)\n",
    "\n"
   ]
  },
  {
   "cell_type": "code",
   "execution_count": null,
   "metadata": {},
   "outputs": [],
   "source": [
    "import time\n",
    "from deep_translator import GoogleTranslator\n",
    "\n",
    "\n",
    "def translate_comment(x):\n",
    "    time.sleep(3)\n",
    "    text_en = GoogleTranslator(source='es', target='en').translate(x)\n",
    "    return text_en\n"
   ]
  },
  {
   "cell_type": "code",
   "execution_count": null,
   "metadata": {},
   "outputs": [],
   "source": [
    "data['title_en'] = data[\"title\"].apply(translate_comment)\n",
    "\n"
   ]
  },
  {
   "cell_type": "code",
   "execution_count": null,
   "metadata": {},
   "outputs": [],
   "source": [
    "from nltk.sentiment.vader import SentimentIntensityAnalyzer\n",
    "sia = SentimentIntensityAnalyzer()\n",
    "\n",
    "def sentimentAnalysis(sentence):\n",
    "    sia = SentimentIntensityAnalyzer()\n",
    "    polarity = sia.polarity_scores(sentence)\n",
    "    pol = polarity['compound']\n",
    "    return pol"
   ]
  },
  {
   "cell_type": "code",
   "execution_count": null,
   "metadata": {},
   "outputs": [],
   "source": [
    "data_isSanchez['sentiment_compound'] = data_isSanchez['text'].apply(sentimentAnalysis)\n",
    "data_isSanchez.head()\n",
    "\n"
   ]
  },
  {
   "cell_type": "code",
   "execution_count": null,
   "metadata": {},
   "outputs": [],
   "source": [
    "data_isSanchez.groupby(['journal'])['sentiment_compound'].mean()"
   ]
  },
  {
   "cell_type": "code",
   "execution_count": null,
   "metadata": {},
   "outputs": [],
   "source": [
    "data_monarchy['sentiment_compound'] = data_monarchy['text'].apply(sentimentAnalysis)\n",
    "data_monarchy.head()"
   ]
  },
  {
   "cell_type": "code",
   "execution_count": null,
   "metadata": {},
   "outputs": [],
   "source": [
    "data_monarchy.groupby(['journal'])['sentiment_compound'].mean()"
   ]
  },
  {
   "cell_type": "code",
   "execution_count": null,
   "metadata": {},
   "outputs": [],
   "source": [
    "data_isIglesias['title'] = data_isIglesias[\"title\"].apply(translate_comment)\n"
   ]
  },
  {
   "cell_type": "code",
   "execution_count": null,
   "metadata": {},
   "outputs": [],
   "source": [
    "data_isIglesias['title'] = data_isIglesias['title'].astype(str)\n",
    "data_isIglesias['title'] = data_isIglesias['title'].astype(str)\n",
    "\n",
    "\n",
    "data_isIglesias['sentiment_compound'] = data_isIglesias['title'].apply(sentimentAnalysis)\n"
   ]
  },
  {
   "cell_type": "code",
   "execution_count": null,
   "metadata": {},
   "outputs": [],
   "source": [
    "data_isIglesias.groupby(['journal'])['sentiment_compound'].mean()"
   ]
  },
  {
   "cell_type": "code",
   "execution_count": null,
   "metadata": {},
   "outputs": [],
   "source": [
    "from sentiment_analysis_spanish import sentiment_analysis\n",
    "def sentimentSpanish(text):  \n",
    "    sentiment = sentiment_analysis.SentimentAnalysisSpanish()\n",
    "    return sentiment.sentiment(text)"
   ]
  },
  {
   "cell_type": "code",
   "execution_count": null,
   "metadata": {},
   "outputs": [],
   "source": [
    "data_isIglesias['text'] = data_isIglesias['text'].astype(str)\n",
    "\n",
    "data_isIglesias['sentiment_compound_es_text'] = data_isIglesias['text'].apply(sentimentAnalysis)\n"
   ]
  },
  {
   "cell_type": "code",
   "execution_count": null,
   "metadata": {},
   "outputs": [],
   "source": [
    "data_isIglesias.groupby(['journal'])['sentiment_compound_es_text'].mean()\n",
    "data_isIglesias.head()"
   ]
  },
  {
   "cell_type": "code",
   "execution_count": null,
   "metadata": {},
   "outputs": [],
   "source": []
  },
  {
   "cell_type": "code",
   "execution_count": null,
   "metadata": {},
   "outputs": [],
   "source": [
    "from textblob import TextBlob\n",
    "    \n",
    "pol = lambda x: TextBlob(x).sentiment.polarity    \n",
    "\n",
    "pol2 = lambda x: x.sentiment.polarity\n",
    "\n",
    "def traduce (x):\n",
    "    time.sleep(1)\n",
    "    return TextBlob(x).translate(to=\"en\")\n",
    "\n",
    "data['title_es'] = data['title'].apply(traduce)\n"
   ]
  },
  {
   "cell_type": "code",
   "execution_count": null,
   "metadata": {},
   "outputs": [],
   "source": [
    "data_isIglesias2['polarity'] = data_isIglesias2['traduce'].apply(pol2)\n"
   ]
  },
  {
   "cell_type": "code",
   "execution_count": null,
   "metadata": {},
   "outputs": [],
   "source": [
    "data_isIglesias2"
   ]
  },
  {
   "cell_type": "code",
   "execution_count": null,
   "metadata": {
    "scrolled": true
   },
   "outputs": [],
   "source": [
    "data_isIglesias2.groupby(['journal'])['polarity'].mean()\n"
   ]
  }
 ],
 "metadata": {
  "kernelspec": {
   "display_name": "Python 3",
   "language": "python",
   "name": "python3"
  },
  "language_info": {
   "codemirror_mode": {
    "name": "ipython",
    "version": 3
   },
   "file_extension": ".py",
   "mimetype": "text/x-python",
   "name": "python",
   "nbconvert_exporter": "python",
   "pygments_lexer": "ipython3",
   "version": "3.7.4"
  }
 },
 "nbformat": 4,
 "nbformat_minor": 4
}
