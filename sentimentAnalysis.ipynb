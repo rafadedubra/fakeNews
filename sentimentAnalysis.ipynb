{
 "cells": [
  {
   "cell_type": "code",
   "execution_count": 1,
   "metadata": {},
   "outputs": [],
   "source": [
    "import pandas as pd\n"
   ]
  },
  {
   "cell_type": "code",
   "execution_count": 11,
   "metadata": {},
   "outputs": [
    {
     "data": {
      "text/html": [
       "<div>\n",
       "<style scoped>\n",
       "    .dataframe tbody tr th:only-of-type {\n",
       "        vertical-align: middle;\n",
       "    }\n",
       "\n",
       "    .dataframe tbody tr th {\n",
       "        vertical-align: top;\n",
       "    }\n",
       "\n",
       "    .dataframe thead th {\n",
       "        text-align: right;\n",
       "    }\n",
       "</style>\n",
       "<table border=\"1\" class=\"dataframe\">\n",
       "  <thead>\n",
       "    <tr style=\"text-align: right;\">\n",
       "      <th></th>\n",
       "      <th>Unnamed: 0</th>\n",
       "      <th>title</th>\n",
       "      <th>text</th>\n",
       "      <th>authors</th>\n",
       "      <th>top_image</th>\n",
       "      <th>movies</th>\n",
       "      <th>journal</th>\n",
       "      <th>published</th>\n",
       "      <th>article_link</th>\n",
       "      <th>keywords</th>\n",
       "      <th>summary</th>\n",
       "      <th>html</th>\n",
       "    </tr>\n",
       "  </thead>\n",
       "  <tbody>\n",
       "    <tr>\n",
       "      <th>0</th>\n",
       "      <td>0</td>\n",
       "      <td>Coronavirus hoy en directo: datos de casos y m...</td>\n",
       "      <td>20:52 ARAGÓN | La Comunidad aragonesa ha notif...</td>\n",
       "      <td>[]</td>\n",
       "      <td>https://okdiario.com/img/2020/12/05/foto1-dire...</td>\n",
       "      <td>[]</td>\n",
       "      <td>okdiario</td>\n",
       "      <td>2020-12-11 19:49:26+00:00</td>\n",
       "      <td>https://okdiario.com/espana/coronavirus-hoy-ul...</td>\n",
       "      <td>[]</td>\n",
       "      <td>NaN</td>\n",
       "      <td>&lt;!DOCTYPE html&gt;\\n&lt;html lang=\"es\" class=\"no-js\"...</td>\n",
       "    </tr>\n",
       "    <tr>\n",
       "      <th>1</th>\n",
       "      <td>1</td>\n",
       "      <td>Vídeo Podemos: Al partido de Pablo Iglesias le...</td>\n",
       "      <td>Podemos tiene claro el objetivo: acabar con la...</td>\n",
       "      <td>[]</td>\n",
       "      <td>https://okdiario.com/img/2020/12/11/narcos.jpg</td>\n",
       "      <td>[]</td>\n",
       "      <td>okdiario</td>\n",
       "      <td>2020-12-11 15:54:24+00:00</td>\n",
       "      <td>https://okdiario.com/espana/podemos-recuerdan-...</td>\n",
       "      <td>[]</td>\n",
       "      <td>NaN</td>\n",
       "      <td>&lt;!DOCTYPE html&gt;\\n&lt;html lang=\"es\" class=\"no-js\"...</td>\n",
       "    </tr>\n",
       "    <tr>\n",
       "      <th>2</th>\n",
       "      <td>2</td>\n",
       "      <td>Gambito de dama: El separatismo se sube al car...</td>\n",
       "      <td>El separatismo catalán no para ni por la pande...</td>\n",
       "      <td>[]</td>\n",
       "      <td>https://okdiario.com/img/2020/12/11/gambito-da...</td>\n",
       "      <td>[]</td>\n",
       "      <td>okdiario</td>\n",
       "      <td>2020-12-11 18:20:46+00:00</td>\n",
       "      <td>https://okdiario.com/cataluna/separatismo-sube...</td>\n",
       "      <td>[]</td>\n",
       "      <td>NaN</td>\n",
       "      <td>&lt;!DOCTYPE html&gt;\\n&lt;html lang=\"es\" class=\"no-js\"...</td>\n",
       "    </tr>\n",
       "    <tr>\n",
       "      <th>3</th>\n",
       "      <td>3</td>\n",
       "      <td>Ada Colau: la alcaldesa de Barcelona monta un ...</td>\n",
       "      <td>No hay Navidad sin turrón. Y tampoco sin polém...</td>\n",
       "      <td>[]</td>\n",
       "      <td>https://okdiario.com/img/2020/12/11/foto6-1.jpg</td>\n",
       "      <td>[]</td>\n",
       "      <td>okdiario</td>\n",
       "      <td>2020-12-11 19:34:21+00:00</td>\n",
       "      <td>https://okdiario.com/espana/ada-colau-monta-be...</td>\n",
       "      <td>[]</td>\n",
       "      <td>NaN</td>\n",
       "      <td>&lt;!DOCTYPE html&gt;\\n&lt;html lang=\"es\" class=\"no-js\"...</td>\n",
       "    </tr>\n",
       "    <tr>\n",
       "      <th>4</th>\n",
       "      <td>4</td>\n",
       "      <td>Pedro Sánchez, nos has vuelto a dejar en evide...</td>\n",
       "      <td>Hay un hecho objetivo: 2020 está siendo un año...</td>\n",
       "      <td>[]</td>\n",
       "      <td>https://okdiario.com/img/2020/12/11/opinion-ma...</td>\n",
       "      <td>[]</td>\n",
       "      <td>okdiario</td>\n",
       "      <td>2020-12-11 20:31:37+00:00</td>\n",
       "      <td>https://okdiario.com/opinion/sanchez-nos-has-v...</td>\n",
       "      <td>[]</td>\n",
       "      <td>NaN</td>\n",
       "      <td>&lt;!DOCTYPE html&gt;\\n&lt;html lang=\"es\" class=\"no-js\"...</td>\n",
       "    </tr>\n",
       "  </tbody>\n",
       "</table>\n",
       "</div>"
      ],
      "text/plain": [
       "   Unnamed: 0                                              title  \\\n",
       "0           0  Coronavirus hoy en directo: datos de casos y m...   \n",
       "1           1  Vídeo Podemos: Al partido de Pablo Iglesias le...   \n",
       "2           2  Gambito de dama: El separatismo se sube al car...   \n",
       "3           3  Ada Colau: la alcaldesa de Barcelona monta un ...   \n",
       "4           4  Pedro Sánchez, nos has vuelto a dejar en evide...   \n",
       "\n",
       "                                                text authors  \\\n",
       "0  20:52 ARAGÓN | La Comunidad aragonesa ha notif...      []   \n",
       "1  Podemos tiene claro el objetivo: acabar con la...      []   \n",
       "2  El separatismo catalán no para ni por la pande...      []   \n",
       "3  No hay Navidad sin turrón. Y tampoco sin polém...      []   \n",
       "4  Hay un hecho objetivo: 2020 está siendo un año...      []   \n",
       "\n",
       "                                           top_image movies   journal  \\\n",
       "0  https://okdiario.com/img/2020/12/05/foto1-dire...     []  okdiario   \n",
       "1     https://okdiario.com/img/2020/12/11/narcos.jpg     []  okdiario   \n",
       "2  https://okdiario.com/img/2020/12/11/gambito-da...     []  okdiario   \n",
       "3    https://okdiario.com/img/2020/12/11/foto6-1.jpg     []  okdiario   \n",
       "4  https://okdiario.com/img/2020/12/11/opinion-ma...     []  okdiario   \n",
       "\n",
       "                   published  \\\n",
       "0  2020-12-11 19:49:26+00:00   \n",
       "1  2020-12-11 15:54:24+00:00   \n",
       "2  2020-12-11 18:20:46+00:00   \n",
       "3  2020-12-11 19:34:21+00:00   \n",
       "4  2020-12-11 20:31:37+00:00   \n",
       "\n",
       "                                        article_link keywords  summary  \\\n",
       "0  https://okdiario.com/espana/coronavirus-hoy-ul...       []      NaN   \n",
       "1  https://okdiario.com/espana/podemos-recuerdan-...       []      NaN   \n",
       "2  https://okdiario.com/cataluna/separatismo-sube...       []      NaN   \n",
       "3  https://okdiario.com/espana/ada-colau-monta-be...       []      NaN   \n",
       "4  https://okdiario.com/opinion/sanchez-nos-has-v...       []      NaN   \n",
       "\n",
       "                                                html  \n",
       "0  <!DOCTYPE html>\\n<html lang=\"es\" class=\"no-js\"...  \n",
       "1  <!DOCTYPE html>\\n<html lang=\"es\" class=\"no-js\"...  \n",
       "2  <!DOCTYPE html>\\n<html lang=\"es\" class=\"no-js\"...  \n",
       "3  <!DOCTYPE html>\\n<html lang=\"es\" class=\"no-js\"...  \n",
       "4  <!DOCTYPE html>\\n<html lang=\"es\" class=\"no-js\"...  "
      ]
     },
     "execution_count": 11,
     "metadata": {},
     "output_type": "execute_result"
    }
   ],
   "source": [
    "data=pd.read_csv('output/scraped_data_news2.csv',error_bad_lines=False)\n",
    "data.head()"
   ]
  },
  {
   "cell_type": "code",
   "execution_count": 12,
   "metadata": {},
   "outputs": [
    {
     "data": {
      "text/plain": [
       "78312"
      ]
     },
     "execution_count": 12,
     "metadata": {},
     "output_type": "execute_result"
    }
   ],
   "source": [
    "data.size"
   ]
  },
  {
   "cell_type": "code",
   "execution_count": 13,
   "metadata": {},
   "outputs": [
    {
     "data": {
      "text/plain": [
       "array(['okdiario', 'eldiario', 'publico', '20minutos', 'elpais',\n",
       "       'elmundo', 'lavanguardia', 'libertaddigital', 'abc'], dtype=object)"
      ]
     },
     "execution_count": 13,
     "metadata": {},
     "output_type": "execute_result"
    }
   ],
   "source": [
    "data.journal.unique()"
   ]
  },
  {
   "cell_type": "code",
   "execution_count": null,
   "metadata": {},
   "outputs": [],
   "source": []
  }
 ],
 "metadata": {
  "kernelspec": {
   "display_name": "Python 3",
   "language": "python",
   "name": "python3"
  },
  "language_info": {
   "codemirror_mode": {
    "name": "ipython",
    "version": 3
   },
   "file_extension": ".py",
   "mimetype": "text/x-python",
   "name": "python",
   "nbconvert_exporter": "python",
   "pygments_lexer": "ipython3",
   "version": "3.7.4"
  }
 },
 "nbformat": 4,
 "nbformat_minor": 4
}
